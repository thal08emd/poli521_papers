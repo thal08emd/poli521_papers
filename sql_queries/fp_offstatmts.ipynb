{
    "metadata": {
        "kernelspec": {
            "name": "SQL",
            "display_name": "SQL",
            "language": "sql"
        },
        "language_info": {
            "name": "sql",
            "version": ""
        }
    },
    "nbformat_minor": 2,
    "nbformat": 4,
    "cells": [
        {
            "cell_type": "code",
            "source": [
                "BEGIN \r\n",
                "    CREATE TABLE fp_offstatmts (\r\n",
                "        country_txt CHAR(50),\r\n",
                "        conflict CHAR(50),\r\n",
                "        stmt_init CHAR(225),\r\n",
                "        init_entity CHAR(225),\r\n",
                "        idate DATE,\r\n",
                "        iyear INT,\r\n",
                "        crit1 VARBINARY,\r\n",
                "        crit2 VARBINARY,\r\n",
                "        crit3 VARBINARY,\r\n",
                "        sanctions VARBINARY,\r\n",
                "        targsanctions VARBINARY,\r\n",
                "        bigfour VARBINARY,\r\n",
                "        EUpresidency  CHAR(20),\r\n",
                "        tactical VARBINARY,\r\n",
                "        rhetorical VARBINARY,\r\n",
                "        threat_scope VARBINARY,\r\n",
                "        membership_lang VARBINARY,\r\n",
                "        verb_tense VARBINARY,\r\n",
                "        active_passive VARBINARY,\r\n",
                "        human_rights VARBINARY,\r\n",
                "        ter_sovereignty VARBINARY,\r\n",
                "        peace VARBINARY,\r\n",
                "        securit VARBINARY, \r\n",
                "        democracy VARBINARY,\r\n",
                "        soc_dev VARBINARY,\r\n",
                "        econ_dev VARBINARY,\r\n",
                "        source CHAR(225)\r\n",
                "        )\r\n",
                "END;"
            ],
            "metadata": {
                "azdata_cell_guid": "054b1e72-0646-4613-8c4b-5da565176d09",
                "tags": [
                    "hide_input"
                ]
            },
            "outputs": [
                {
                    "output_type": "error",
                    "evalue": "Msg 2714, Level 16, State 6, Line 2\r\nThere is already an object named 'fp_offstatmts' in the database.",
                    "ename": "",
                    "traceback": []
                },
                {
                    "output_type": "display_data",
                    "data": {
                        "text/html": "Total execution time: 00:00:00.012"
                    },
                    "metadata": {}
                }
            ],
            "execution_count": 4
        },
        {
            "cell_type": "code",
            "source": [
                "CREATE PROCEDURE dbo.InsertForeignPolicyStatements\r\n",
                "        @country_txt CHAR(50),\r\n",
                "        @conflict CHAR(50),\r\n",
                "        @stmt_init CHAR(225),\r\n",
                "        @init_entity CHAR(225),\r\n",
                "        @idate DATE,\r\n",
                "        @iyear INT,\r\n",
                "        @crit1 VARBINARY,\r\n",
                "        @crit2 VARBINARY,\r\n",
                "        @crit3 VARBINARY,\r\n",
                "        @sanctions VARBINARY,\r\n",
                "        @targsanctions VARBINARY,\r\n",
                "        @bigfour VARBINARY,\r\n",
                "        @EUpresidency  CHAR(20),\r\n",
                "        @tactical VARBINARY,\r\n",
                "        @rhetorical VARBINARY,\r\n",
                "        @threat_scope VARBINARY,\r\n",
                "        @membership_lang VARBINARY,\r\n",
                "        @verb_tense VARBINARY,\r\n",
                "        @active_passive VARBINARY,\r\n",
                "        @human_rights VARBINARY,\r\n",
                "        @ter_sovereignty VARBINARY,\r\n",
                "        @peace VARBINARY,\r\n",
                "        @securit VARBINARY, \r\n",
                "        @democracy VARBINARY,\r\n",
                "        @soc_dev VARBINARY,\r\n",
                "        @econ_dev VARBINARY,\r\n",
                "        @source CHAR(225)\r\n",
                "AS\r\n",
                "    SET NOCOUNT ON;\r\n",
                "\r\n",
                "    -- initialize\r\n",
                "\r\n",
                "    -- insert\r\n",
                "    INSERT INTO dbo.fp_offstatmts\r\n",
                "        ([country_txt]\r\n",
                "      ,[conflict]\r\n",
                "      ,[stmt_init]\r\n",
                "      ,[init_entity]\r\n",
                "      ,[idate]\r\n",
                "      ,[iyear]\r\n",
                "      ,[crit1]\r\n",
                "      ,[crit2]\r\n",
                "      ,[crit3]\r\n",
                "      ,[sanctions]\r\n",
                "      ,[targsanctions]\r\n",
                "      ,[bigfour]\r\n",
                "      ,[EUpresidency]\r\n",
                "      ,[tactical]\r\n",
                "      ,[rhetorical]\r\n",
                "      ,[threat_scope]\r\n",
                "      ,[membership_lang]\r\n",
                "      ,[verb_tense]\r\n",
                "      ,[active_passive]\r\n",
                "      ,[human_rights]\r\n",
                "      ,[ter_sovereignty]\r\n",
                "      ,[peace]\r\n",
                "      ,[securit]\r\n",
                "      ,[democracy]\r\n",
                "      ,[soc_dev]\r\n",
                "      ,[econ_dev]\r\n",
                "      ,[source])\r\n",
                "            VALUES (\r\n",
                "                @country_txt ,\r\n",
                "                @conflict ,\r\n",
                "                @stmt_init ,\r\n",
                "                @init_entity ,\r\n",
                "                @idate ,\r\n",
                "                @iyear ,\r\n",
                "                @crit1 ,\r\n",
                "                @crit2 ,\r\n",
                "                @crit3 ,\r\n",
                "                @sanctions ,\r\n",
                "                @targsanctions ,\r\n",
                "                @bigfour ,\r\n",
                "                @EUpresidency  ,\r\n",
                "                @tactical ,\r\n",
                "                @rhetorical ,\r\n",
                "                @threat_scope ,\r\n",
                "                @membership_lang ,\r\n",
                "                @verb_tense ,\r\n",
                "                @active_passive ,\r\n",
                "                @human_rights ,\r\n",
                "                @ter_sovereignty ,\r\n",
                "                @peace ,\r\n",
                "                @securit , \r\n",
                "                @democracy ,\r\n",
                "                @soc_dev ,\r\n",
                "                @econ_dev ,\r\n",
                "                @source \r\n",
                "                )\r\n",
                "    GO"
            ],
            "metadata": {
                "azdata_cell_guid": "2910326d-c1d1-49fc-bbdf-f3c2375daaf2",
                "tags": []
            },
            "outputs": [
                {
                    "output_type": "error",
                    "evalue": "Msg 2714, Level 16, State 3, Procedure InsertForeignPolicyStatements, Line 1\r\nThere is already an object named 'InsertForeignPolicyStatements' in the database.",
                    "ename": "",
                    "traceback": []
                },
                {
                    "output_type": "display_data",
                    "data": {
                        "text/html": "Total execution time: 00:00:00.006"
                    },
                    "metadata": {}
                }
            ],
            "execution_count": 13
        },
        {
            "cell_type": "code",
            "source": [
                "EXECUTE dbo.InsertForeignPolicyStatements\r\n",
                "                @country_txt = 'Georgia',\r\n",
                "                @conflict = 'Russo-Georgia War',\r\n",
                "                @stmt_init = 'EU Council' ,\r\n",
                "                @init_entity = 'EU' ,\r\n",
                "                @idate = '2008-08-13' ,\r\n",
                "                @iyear = '2008' ,\r\n",
                "                @crit1 = 0 ,\r\n",
                "                @crit2 = 0 ,\r\n",
                "                @crit3 = 1 ,\r\n",
                "                @sanctions = NULL ,\r\n",
                "                @targsanctions = NULL ,\r\n",
                "                @bigfour = NULL ,\r\n",
                "                @EUpresidency = 'France'  ,\r\n",
                "                @tactical = 0 ,\r\n",
                "                @rhetorical = 1 ,\r\n",
                "                @threat_scope = 0 , /*Europe - 0; EU = 1*/\r\n",
                "                @membership_lang = 0 , /*inclusive - 0; exclusive = 1*/\r\n",
                "                @verb_tense = 1, /*past - 0; present = 1*/\r\n",
                "                @active_passive = 1, /*active - 0; passive = 1*/\r\n",
                "                @human_rights = 1 ,\r\n",
                "                @ter_sovereignty = 1 ,\r\n",
                "                @peace = 1 ,\r\n",
                "                @securit = 1 , \r\n",
                "                @democracy = 0 ,\r\n",
                "                @soc_dev = 0 ,\r\n",
                "                @econ_dev = 0 ,\r\n",
                "                @source = 'EUC' \r\n",
                "GO"
            ],
            "metadata": {
                "azdata_cell_guid": "e856ba89-f576-47fe-af28-8866a3c5fdf3",
                "tags": []
            },
            "outputs": [
                {
                    "output_type": "display_data",
                    "data": {
                        "text/html": "Commands completed successfully."
                    },
                    "metadata": {}
                },
                {
                    "output_type": "display_data",
                    "data": {
                        "text/html": "Total execution time: 00:00:00.008"
                    },
                    "metadata": {}
                }
            ],
            "execution_count": 18
        }
    ]
}